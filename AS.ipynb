{
  "nbformat": 4,
  "nbformat_minor": 0,
  "metadata": {
    "colab": {
      "provenance": []
    },
    "kernelspec": {
      "name": "python3",
      "display_name": "Python 3"
    },
    "language_info": {
      "name": "python"
    }
  },
  "cells": [
    {
      "cell_type": "code",
      "source": [
        "model = keras.models.Sequential([\n",
        " keras.layers.Flatten(input_shape=[28, 28]),\n",
        " keras.layers.Dense(300, activation=\"relu\"),\n",
        " keras.layers.Dense(100, activation=\"relu\"),\n",
        " keras.layers.Dense(10, activation=\"softmax\")\n",
        "])"
      ],
      "metadata": {
        "id": "TG9P0s_I8aKq"
      },
      "execution_count": null,
      "outputs": []
    },
    {
      "cell_type": "code",
      "source": [
        "from tensorflow import keras\n",
        "output_layer = keras.layers.Dense(10)"
      ],
      "metadata": {
        "id": "pNKbGJ9F8gOm"
      },
      "execution_count": null,
      "outputs": []
    },
    {
      "cell_type": "code",
      "source": [
        "model.summary()"
      ],
      "metadata": {
        "colab": {
          "base_uri": "https://localhost:8080/"
        },
        "id": "gzSTfcQp8pVu",
        "outputId": "d2ae237d-c006-4bc9-f272-6cf7eeb8c2da"
      },
      "execution_count": null,
      "outputs": [
        {
          "output_type": "stream",
          "name": "stdout",
          "text": [
            "Model: \"sequential_2\"\n",
            "_________________________________________________________________\n",
            " Layer (type)                Output Shape              Param #   \n",
            "=================================================================\n",
            " flatten_2 (Flatten)         (None, 784)               0         \n",
            "                                                                 \n",
            " dense_8 (Dense)             (None, 300)               235500    \n",
            "                                                                 \n",
            " dense_9 (Dense)             (None, 100)               30100     \n",
            "                                                                 \n",
            " dense_10 (Dense)            (None, 10)                1010      \n",
            "                                                                 \n",
            "=================================================================\n",
            "Total params: 266,610\n",
            "Trainable params: 266,610\n",
            "Non-trainable params: 0\n",
            "_________________________________________________________________\n"
          ]
        }
      ]
    },
    {
      "cell_type": "code",
      "source": [
        "model.layers"
      ],
      "metadata": {
        "colab": {
          "base_uri": "https://localhost:8080/"
        },
        "id": "NMouUvS18vPP",
        "outputId": "20a305db-fb06-45ba-b705-2884df9686b8"
      },
      "execution_count": null,
      "outputs": [
        {
          "output_type": "execute_result",
          "data": {
            "text/plain": [
              "[<keras.layers.reshaping.flatten.Flatten at 0x7fe744426880>,\n",
              " <keras.layers.core.dense.Dense at 0x7fe744426400>,\n",
              " <keras.layers.core.dense.Dense at 0x7fe744426d60>,\n",
              " <keras.layers.core.dense.Dense at 0x7fe744426be0>]"
            ]
          },
          "metadata": {},
          "execution_count": 53
        }
      ]
    },
    {
      "cell_type": "code",
      "source": [
        "model.layers[1].name"
      ],
      "metadata": {
        "colab": {
          "base_uri": "https://localhost:8080/",
          "height": 35
        },
        "id": "bV9MnqR282ku",
        "outputId": "d58fa9b7-d992-45ef-ce06-807f89396187"
      },
      "execution_count": null,
      "outputs": [
        {
          "output_type": "execute_result",
          "data": {
            "text/plain": [
              "'dense_8'"
            ],
            "application/vnd.google.colaboratory.intrinsic+json": {
              "type": "string"
            }
          },
          "metadata": {},
          "execution_count": 54
        }
      ]
    },
    {
      "cell_type": "code",
      "source": [
        "model.get_layer('dense_8').name"
      ],
      "metadata": {
        "colab": {
          "base_uri": "https://localhost:8080/",
          "height": 35
        },
        "id": "kfhvVpav87M6",
        "outputId": "d4170c07-e27e-40cc-fa70-5ca2177e6d9e"
      },
      "execution_count": null,
      "outputs": [
        {
          "output_type": "execute_result",
          "data": {
            "text/plain": [
              "'dense_8'"
            ],
            "application/vnd.google.colaboratory.intrinsic+json": {
              "type": "string"
            }
          },
          "metadata": {},
          "execution_count": 56
        }
      ]
    },
    {
      "cell_type": "code",
      "source": [
        "import tensorflow as tf"
      ],
      "metadata": {
        "id": "k_lp1Mfg9br-"
      },
      "execution_count": null,
      "outputs": []
    },
    {
      "cell_type": "code",
      "source": [
        "LAYERS = [tf.keras.layers.Flatten(input_shape=[28,28],\n",
        "name=\"inputLayer\"),\n",
        "         tf.keras.layers.Dense(300, activation=\"relu\", name=\"hiddenLayer1\"),\n",
        "         tf.keras.layers.Dense(100, activation=\"relu\", name=\"hiddenLayer2\"),\n",
        "         tf.keras.layers.Dense(10, activation=\"softmax\", name=\"outputLayer\")]\n",
        "model = tf.keras.models.Sequential(LAYERS)"
      ],
      "metadata": {
        "id": "0sUvXr7J9EP0"
      },
      "execution_count": null,
      "outputs": []
    },
    {
      "cell_type": "code",
      "source": [
        "weights, biases = hidden1.get_weights()"
      ],
      "metadata": {
        "id": "39ysSBhb9j6x"
      },
      "execution_count": null,
      "outputs": []
    }
  ]
}